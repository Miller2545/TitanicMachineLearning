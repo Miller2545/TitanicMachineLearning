{
 "cells": [
  {
   "cell_type": "markdown",
   "id": "221906d3-20b0-4654-8d79-37d6f5d21c46",
   "metadata": {},
   "source": [
    "# Titanic Machine Learning Competition\n",
    "*Using Logistic Regression to predict passenger survival*"
   ]
  },
  {
   "cell_type": "markdown",
   "id": "c074e392-0019-43a1-b565-abc276160fa0",
   "metadata": {},
   "source": [
    "### Imports"
   ]
  },
  {
   "cell_type": "code",
   "execution_count": 275,
   "id": "d8f4f982-7f3f-4069-8798-77a32fada793",
   "metadata": {},
   "outputs": [],
   "source": [
    "from sklearn.linear_model import LogisticRegression\n",
    "import pandas as pd \n",
    "import numpy as np \n",
    "import seaborn as sns\n",
    "import matplotlib.pyplot as plt \n",
    "from sklearn.metrics import r2_score, mean_squared_error\n",
    "from sklearn.feature_selection import RFE\n",
    "from statistics import median\n",
    "import statsmodels.api as sm\n",
    "from sklearn import preprocessing"
   ]
  },
  {
   "cell_type": "code",
   "execution_count": 276,
   "id": "793a590f-b7d9-4c45-9a8d-5d10577848c2",
   "metadata": {},
   "outputs": [],
   "source": [
    "titanic_test = pd.read_csv(\"C:/Users/james/OneDrive/Desktop/Python/Datasets for Projects/Titanic Prediction/test.csv\", converters = {'Sex': lambda x: int(x == 'male')})\n",
    "titanic_train = pd.read_csv(\"C:/Users/james/OneDrive/Desktop/Python/Datasets for Projects/Titanic Prediction/train.csv\", converters = {'Sex': lambda x: int(x == 'male')})"
   ]
  },
  {
   "cell_type": "markdown",
   "id": "49c08b09-45ac-4641-a87c-20220ed38494",
   "metadata": {},
   "source": [
    "### Preprocessing"
   ]
  },
  {
   "cell_type": "markdown",
   "id": "0798f544-52c4-47d0-b61d-1ce29e49906e",
   "metadata": {},
   "source": [
    "First I noticed there are some na values and wanted to check exactly how many existed and deal with them accordingly. I found 177 na values within the Age variable and will deal with it accordingly. I'm not going to worry about the Cabin or Embarked variables as I will not be using them."
   ]
  },
  {
   "cell_type": "code",
   "execution_count": 277,
   "id": "67debedf-ca2c-4941-b1c7-bfcc6e56693a",
   "metadata": {},
   "outputs": [
    {
     "name": "stdout",
     "output_type": "stream",
     "text": [
      "PassengerId      0\n",
      "Survived         0\n",
      "Pclass           0\n",
      "Name             0\n",
      "Sex              0\n",
      "Age            177\n",
      "SibSp            0\n",
      "Parch            0\n",
      "Ticket           0\n",
      "Fare             0\n",
      "Cabin          687\n",
      "Embarked         2\n",
      "dtype: int64\n"
     ]
    }
   ],
   "source": [
    "nan_count = titanic_train.isna().sum()\n",
    "print(nan_count)"
   ]
  },
  {
   "cell_type": "markdown",
   "id": "3f5684d7-3efb-4352-a330-891413975c18",
   "metadata": {},
   "source": [
    "Next I am dropping the variables I won't be using."
   ]
  },
  {
   "cell_type": "code",
   "execution_count": 278,
   "id": "0688f78e-2aae-4f55-9f7b-56adc82f1e9a",
   "metadata": {},
   "outputs": [],
   "source": [
    "titanic_train = titanic_train.drop(['Name', 'Ticket', 'Cabin', 'Parch', 'SibSp', 'Embarked'], axis = 1)\n",
    "titanic_test = titanic_test.drop(['Name', 'Ticket', 'Cabin', 'Parch', 'SibSp', 'Embarked'], axis = 1)"
   ]
  },
  {
   "cell_type": "markdown",
   "id": "cf4c8038-b22d-4b85-8371-56a9404a8645",
   "metadata": {},
   "source": [
    "To deal with the na values within the age variable, I will be replacing them with the median age. After dealing with na values I am scaling all the data in the training and test sets."
   ]
  },
  {
   "cell_type": "code",
   "execution_count": 279,
   "id": "f1e4b4aa-0de4-48a0-9eda-2d862f176d78",
   "metadata": {},
   "outputs": [
    {
     "data": {
      "text/html": [
       "<div>\n",
       "<style scoped>\n",
       "    .dataframe tbody tr th:only-of-type {\n",
       "        vertical-align: middle;\n",
       "    }\n",
       "\n",
       "    .dataframe tbody tr th {\n",
       "        vertical-align: top;\n",
       "    }\n",
       "\n",
       "    .dataframe thead th {\n",
       "        text-align: right;\n",
       "    }\n",
       "</style>\n",
       "<table border=\"1\" class=\"dataframe\">\n",
       "  <thead>\n",
       "    <tr style=\"text-align: right;\">\n",
       "      <th></th>\n",
       "      <th>Pclass</th>\n",
       "      <th>Sex</th>\n",
       "      <th>Age</th>\n",
       "      <th>Fare</th>\n",
       "      <th>PassengerId</th>\n",
       "    </tr>\n",
       "  </thead>\n",
       "  <tbody>\n",
       "    <tr>\n",
       "      <th>0</th>\n",
       "      <td>0.873482</td>\n",
       "      <td>0.755929</td>\n",
       "      <td>0.386231</td>\n",
       "      <td>-0.497811</td>\n",
       "      <td>892</td>\n",
       "    </tr>\n",
       "    <tr>\n",
       "      <th>1</th>\n",
       "      <td>0.873482</td>\n",
       "      <td>-1.322876</td>\n",
       "      <td>1.371370</td>\n",
       "      <td>-0.512660</td>\n",
       "      <td>893</td>\n",
       "    </tr>\n",
       "    <tr>\n",
       "      <th>2</th>\n",
       "      <td>-0.315819</td>\n",
       "      <td>0.755929</td>\n",
       "      <td>2.553537</td>\n",
       "      <td>-0.464532</td>\n",
       "      <td>894</td>\n",
       "    </tr>\n",
       "    <tr>\n",
       "      <th>3</th>\n",
       "      <td>0.873482</td>\n",
       "      <td>0.755929</td>\n",
       "      <td>-0.204852</td>\n",
       "      <td>-0.482888</td>\n",
       "      <td>895</td>\n",
       "    </tr>\n",
       "    <tr>\n",
       "      <th>4</th>\n",
       "      <td>0.873482</td>\n",
       "      <td>-1.322876</td>\n",
       "      <td>-0.598908</td>\n",
       "      <td>-0.417971</td>\n",
       "      <td>896</td>\n",
       "    </tr>\n",
       "    <tr>\n",
       "      <th>...</th>\n",
       "      <td>...</td>\n",
       "      <td>...</td>\n",
       "      <td>...</td>\n",
       "      <td>...</td>\n",
       "      <td>...</td>\n",
       "    </tr>\n",
       "    <tr>\n",
       "      <th>413</th>\n",
       "      <td>0.873482</td>\n",
       "      <td>0.755929</td>\n",
       "      <td>-0.204852</td>\n",
       "      <td>-0.493856</td>\n",
       "      <td>1305</td>\n",
       "    </tr>\n",
       "    <tr>\n",
       "      <th>414</th>\n",
       "      <td>-1.505120</td>\n",
       "      <td>-1.322876</td>\n",
       "      <td>0.740881</td>\n",
       "      <td>1.312180</td>\n",
       "      <td>1306</td>\n",
       "    </tr>\n",
       "    <tr>\n",
       "      <th>415</th>\n",
       "      <td>0.873482</td>\n",
       "      <td>0.755929</td>\n",
       "      <td>0.701476</td>\n",
       "      <td>-0.508183</td>\n",
       "      <td>1307</td>\n",
       "    </tr>\n",
       "    <tr>\n",
       "      <th>416</th>\n",
       "      <td>0.873482</td>\n",
       "      <td>0.755929</td>\n",
       "      <td>-0.204852</td>\n",
       "      <td>-0.493856</td>\n",
       "      <td>1308</td>\n",
       "    </tr>\n",
       "    <tr>\n",
       "      <th>417</th>\n",
       "      <td>0.873482</td>\n",
       "      <td>0.755929</td>\n",
       "      <td>-0.204852</td>\n",
       "      <td>-0.237621</td>\n",
       "      <td>1309</td>\n",
       "    </tr>\n",
       "  </tbody>\n",
       "</table>\n",
       "<p>418 rows × 5 columns</p>\n",
       "</div>"
      ],
      "text/plain": [
       "       Pclass       Sex       Age      Fare  PassengerId\n",
       "0    0.873482  0.755929  0.386231 -0.497811          892\n",
       "1    0.873482 -1.322876  1.371370 -0.512660          893\n",
       "2   -0.315819  0.755929  2.553537 -0.464532          894\n",
       "3    0.873482  0.755929 -0.204852 -0.482888          895\n",
       "4    0.873482 -1.322876 -0.598908 -0.417971          896\n",
       "..        ...       ...       ...       ...          ...\n",
       "413  0.873482  0.755929 -0.204852 -0.493856         1305\n",
       "414 -1.505120 -1.322876  0.740881  1.312180         1306\n",
       "415  0.873482  0.755929  0.701476 -0.508183         1307\n",
       "416  0.873482  0.755929 -0.204852 -0.493856         1308\n",
       "417  0.873482  0.755929 -0.204852 -0.237621         1309\n",
       "\n",
       "[418 rows x 5 columns]"
      ]
     },
     "execution_count": 279,
     "metadata": {},
     "output_type": "execute_result"
    }
   ],
   "source": [
    "titanic_train['Age'] = titanic_train['Age'].fillna(titanic_train['Age'].median())\n",
    "titanic_test['Age'] = titanic_test['Age'].fillna(titanic_test['Age'].median())\n",
    "\n",
    "preprocessed_test = pd.DataFrame(preprocessing.scale(titanic_test.drop(['PassengerId'], axis = 1)))\n",
    "preprocessed_test['PassengerId'] = titanic_test['PassengerId']\n",
    "preprocessed_test.columns = ['Pclass', 'Sex', 'Age', 'Fare', 'PassengerId']\n",
    "\n",
    "preprocessed_train = pd.DataFrame(preprocessing.scale(titanic_train.drop(['Survived', 'PassengerId'], axis = 1)))\n",
    "preprocessed_train['Survived'] = titanic_train['Survived']\n",
    "preprocessed_train['PassengerId'] = titanic_train['PassengerId']\n",
    "preprocessed_train.columns = ['Pclass', 'Sex', 'Age', 'Fare', 'Survived', 'PassengerId']\n",
    "preprocessed_train\n",
    "preprocessed_test"
   ]
  },
  {
   "cell_type": "markdown",
   "id": "014316ef-a235-4d22-98e6-70ee969092f4",
   "metadata": {},
   "source": [
    "### Feature Selection"
   ]
  },
  {
   "cell_type": "markdown",
   "id": "397ea295-cfed-4d6b-9aa3-215fe7e9bab3",
   "metadata": {},
   "source": [
    "Then I am going through with feature selection, the final variables used are the Passenger class and Sex variables."
   ]
  },
  {
   "cell_type": "code",
   "execution_count": 280,
   "id": "2206af18-5572-4303-9390-fe5d9420ef31",
   "metadata": {},
   "outputs": [
    {
     "name": "stdout",
     "output_type": "stream",
     "text": [
      "Index(['Pclass', 'Sex', 'Age', 'Fare'], dtype='object')\n",
      "[ True  True False False]\n",
      "[1 1 2 3]\n"
     ]
    }
   ],
   "source": [
    "x = preprocessed_train.columns.drop(['Survived', 'PassengerId'])\n",
    "y = ['Survived']\n",
    "logreg = LogisticRegression()\n",
    "print(x)\n",
    "rfe = RFE(logreg)\n",
    "rfe = rfe.fit(preprocessed_train[x], preprocessed_train[y].values.ravel())\n",
    "print(rfe.support_)\n",
    "print(rfe.ranking_)\n"
   ]
  },
  {
   "cell_type": "markdown",
   "id": "ecb0b8a9-d99b-4b0a-a690-d55809f08b95",
   "metadata": {},
   "source": [
    "With none of our variables having a p-value > 0.05 we are good to fit the model."
   ]
  },
  {
   "cell_type": "code",
   "execution_count": 281,
   "id": "4a507e33-0a80-4fdc-9d24-f6c99442c757",
   "metadata": {},
   "outputs": [
    {
     "name": "stdout",
     "output_type": "stream",
     "text": [
      "Optimization terminated successfully.\n",
      "         Current function value: 0.494933\n",
      "         Iterations 6\n",
      "                         Results: Logit\n",
      "=================================================================\n",
      "Model:              Logit            Method:           MLE       \n",
      "Dependent Variable: Survived         Pseudo R-squared: 0.257     \n",
      "Date:               2023-09-25 13:14 AIC:              885.9712  \n",
      "No. Observations:   891              BIC:              895.5559  \n",
      "Df Model:           1                Log-Likelihood:   -440.99   \n",
      "Df Residuals:       889              LL-Null:          -593.33   \n",
      "Converged:          1.0000           LLR p-value:      3.1429e-68\n",
      "No. Iterations:     6.0000           Scale:            1.0000    \n",
      "-------------------------------------------------------------------\n",
      "          Coef.    Std.Err.      z       P>|z|     [0.025    0.975]\n",
      "-------------------------------------------------------------------\n",
      "Pclass   -0.7593     0.0857    -8.8560   0.0000   -0.9274   -0.5913\n",
      "Sex      -1.2680     0.0897   -14.1304   0.0000   -1.4439   -1.0921\n",
      "=================================================================\n",
      "\n"
     ]
    }
   ],
   "source": [
    "X_train = preprocessed_train.drop(['Survived', 'Age', 'PassengerId', 'Fare'], axis = 1)\n",
    "y_train = preprocessed_train['Survived']\n",
    "X_test = preprocessed_test.drop(['Age', 'PassengerId', 'Fare'], axis = 1)\n",
    "logit_model=sm.Logit(y_train,X_train)\n",
    "result=logit_model.fit()\n",
    "print(result.summary2())"
   ]
  },
  {
   "cell_type": "markdown",
   "id": "31fb5d5a-4a6e-4532-932b-cd331b19b05a",
   "metadata": {},
   "source": [
    "### Model Fitting and Predicting"
   ]
  },
  {
   "cell_type": "code",
   "execution_count": 282,
   "id": "1d21d09c-efb0-4ccd-a33c-a80fed28569d",
   "metadata": {},
   "outputs": [],
   "source": [
    "logreg = LogisticRegression(solver='lbfgs', max_iter=100)\n",
    "\n",
    "logreg.fit(X_train, y_train)\n",
    "\n",
    "y_train_predictions = logreg.predict(X_train)\n",
    "y_test_predictions = logreg.predict(X_test)\n"
   ]
  },
  {
   "cell_type": "markdown",
   "id": "20d085ac-66ba-4b61-84e8-14ff7048bc0e",
   "metadata": {},
   "source": [
    "### Outputting Predictions to File"
   ]
  },
  {
   "cell_type": "markdown",
   "id": "d330b400-aecc-44cd-b8a0-7ed24802c62e",
   "metadata": {},
   "source": [
    "Once the model is fit, I create my predictions and write them to a submissions file to turn it in :)"
   ]
  },
  {
   "cell_type": "code",
   "execution_count": 283,
   "id": "33bda052-9450-4b9f-9ad0-ff64c26b800c",
   "metadata": {},
   "outputs": [],
   "source": [
    "predictions = pd.DataFrame([preprocessed_test['PassengerId'], y_test_predictions]).transpose()\n",
    "predictions.columns = ['PassengerId', 'Survived']\n",
    "predictions.to_csv('submission.csv', index = False)\n"
   ]
  },
  {
   "cell_type": "code",
   "execution_count": null,
   "id": "b1031bdd-4af5-4c9c-bb7f-3dc4e80638d6",
   "metadata": {},
   "outputs": [],
   "source": []
  }
 ],
 "metadata": {
  "kernelspec": {
   "display_name": "Python 3 (ipykernel)",
   "language": "python",
   "name": "python3"
  },
  "language_info": {
   "codemirror_mode": {
    "name": "ipython",
    "version": 3
   },
   "file_extension": ".py",
   "mimetype": "text/x-python",
   "name": "python",
   "nbconvert_exporter": "python",
   "pygments_lexer": "ipython3",
   "version": "3.11.5"
  }
 },
 "nbformat": 4,
 "nbformat_minor": 5
}
